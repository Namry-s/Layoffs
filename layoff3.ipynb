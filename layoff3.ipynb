{
 "cells": [
  {
   "cell_type": "code",
   "execution_count": 23,
   "id": "3ec9f9bc-bb6c-4102-9747-0dca9ef73948",
   "metadata": {},
   "outputs": [],
   "source": [
    "import mysql.connector\n",
    "import pandas as pd\n",
    "import matplotlib.pyplot as plt\n",
    "import seaborn as sns\n",
    "import warnings\n",
    "warnings.filterwarnings(\"ignore\")"
   ]
  },
  {
   "cell_type": "code",
   "execution_count": 24,
   "id": "d77c5797-5b7e-4d93-a8e6-ad53687ee3f1",
   "metadata": {},
   "outputs": [],
   "source": [
    "#connection with SQL to extract the data"
   ]
  },
  {
   "cell_type": "code",
   "execution_count": 25,
   "id": "aa6905b7-b4a1-4a75-b347-f14048956e6f",
   "metadata": {},
   "outputs": [],
   "source": [
    "conn = mysql.connector.connect(\n",
    "    user=\"root\",\n",
    "    password=\"Sanchez7913.\",\n",
    "    host=\"localhost\",\n",
    "    database=\"world_layoffs\"\n",
    "    \n",
    ")\n",
    "\n",
    "cursor = conn.cursor()"
   ]
  },
  {
   "cell_type": "code",
   "execution_count": 26,
   "id": "b2c9bf9e-caf5-4e00-a9d0-b000b77d6f72",
   "metadata": {},
   "outputs": [],
   "source": [
    "query = \"\"\"\n",
    "       SELECT*\n",
    "       FROM layoffs_staging2;\n",
    "\"\"\"\n",
    "\n",
    "cursor.execute(query)"
   ]
  },
  {
   "cell_type": "code",
   "execution_count": 27,
   "id": "aa1c6079-88ee-4601-bfed-1c78f9b643d9",
   "metadata": {},
   "outputs": [],
   "source": [
    "columns = [col[0] for col in cursor.description]"
   ]
  },
  {
   "cell_type": "code",
   "execution_count": 28,
   "id": "22d410a6-eb86-4fd0-863b-9b3a7237431c",
   "metadata": {},
   "outputs": [],
   "source": [
    "results = cursor.fetchall()\n",
    "cursor.close()\n",
    "conn.close()"
   ]
  },
  {
   "cell_type": "code",
   "execution_count": 29,
   "id": "aaa798b0-7a68-46bc-8890-0492477912f5",
   "metadata": {},
   "outputs": [],
   "source": [
    "layoff_staging = pd.DataFrame(results, columns=columns)"
   ]
  },
  {
   "cell_type": "code",
   "execution_count": 30,
   "id": "b8ef666d-aa40-4bbe-9f4b-fc0e541ebe4d",
   "metadata": {},
   "outputs": [
    {
     "data": {
      "text/html": [
       "<div>\n",
       "<style scoped>\n",
       "    .dataframe tbody tr th:only-of-type {\n",
       "        vertical-align: middle;\n",
       "    }\n",
       "\n",
       "    .dataframe tbody tr th {\n",
       "        vertical-align: top;\n",
       "    }\n",
       "\n",
       "    .dataframe thead th {\n",
       "        text-align: right;\n",
       "    }\n",
       "</style>\n",
       "<table border=\"1\" class=\"dataframe\">\n",
       "  <thead>\n",
       "    <tr style=\"text-align: right;\">\n",
       "      <th></th>\n",
       "      <th>company</th>\n",
       "      <th>location</th>\n",
       "      <th>industry</th>\n",
       "      <th>total_laid_off</th>\n",
       "      <th>percentage_laid_off</th>\n",
       "      <th>date</th>\n",
       "      <th>stage</th>\n",
       "      <th>country</th>\n",
       "      <th>funds_raised_millions</th>\n",
       "    </tr>\n",
       "  </thead>\n",
       "  <tbody>\n",
       "    <tr>\n",
       "      <th>0</th>\n",
       "      <td>Included Health</td>\n",
       "      <td>SF Bay Area</td>\n",
       "      <td>Healthcare</td>\n",
       "      <td>NaN</td>\n",
       "      <td>0.06</td>\n",
       "      <td>2022-07-25</td>\n",
       "      <td>Series E</td>\n",
       "      <td>United States</td>\n",
       "      <td>272.0</td>\n",
       "    </tr>\n",
       "    <tr>\n",
       "      <th>1</th>\n",
       "      <td>&amp;Open</td>\n",
       "      <td>Dublin</td>\n",
       "      <td>Marketing</td>\n",
       "      <td>9.0</td>\n",
       "      <td>0.09</td>\n",
       "      <td>2022-11-17</td>\n",
       "      <td>Series A</td>\n",
       "      <td>Ireland</td>\n",
       "      <td>35.0</td>\n",
       "    </tr>\n",
       "    <tr>\n",
       "      <th>2</th>\n",
       "      <td>#Paid</td>\n",
       "      <td>Toronto</td>\n",
       "      <td>Marketing</td>\n",
       "      <td>19.0</td>\n",
       "      <td>0.17</td>\n",
       "      <td>2023-01-27</td>\n",
       "      <td>Series B</td>\n",
       "      <td>Canada</td>\n",
       "      <td>21.0</td>\n",
       "    </tr>\n",
       "    <tr>\n",
       "      <th>3</th>\n",
       "      <td>100 Thieves</td>\n",
       "      <td>Los Angeles</td>\n",
       "      <td>Consumer</td>\n",
       "      <td>12.0</td>\n",
       "      <td>None</td>\n",
       "      <td>2022-07-13</td>\n",
       "      <td>Series C</td>\n",
       "      <td>United States</td>\n",
       "      <td>120.0</td>\n",
       "    </tr>\n",
       "    <tr>\n",
       "      <th>4</th>\n",
       "      <td>10X Genomics</td>\n",
       "      <td>SF Bay Area</td>\n",
       "      <td>Healthcare</td>\n",
       "      <td>100.0</td>\n",
       "      <td>0.08</td>\n",
       "      <td>2022-08-04</td>\n",
       "      <td>Post-IPO</td>\n",
       "      <td>United States</td>\n",
       "      <td>242.0</td>\n",
       "    </tr>\n",
       "  </tbody>\n",
       "</table>\n",
       "</div>"
      ],
      "text/plain": [
       "           company     location    industry  total_laid_off  \\\n",
       "0  Included Health  SF Bay Area  Healthcare             NaN   \n",
       "1            &Open       Dublin   Marketing             9.0   \n",
       "2            #Paid      Toronto   Marketing            19.0   \n",
       "3      100 Thieves  Los Angeles    Consumer            12.0   \n",
       "4     10X Genomics  SF Bay Area  Healthcare           100.0   \n",
       "\n",
       "  percentage_laid_off        date     stage        country  \\\n",
       "0                0.06  2022-07-25  Series E  United States   \n",
       "1                0.09  2022-11-17  Series A        Ireland   \n",
       "2                0.17  2023-01-27  Series B         Canada   \n",
       "3                None  2022-07-13  Series C  United States   \n",
       "4                0.08  2022-08-04  Post-IPO  United States   \n",
       "\n",
       "   funds_raised_millions  \n",
       "0                  272.0  \n",
       "1                   35.0  \n",
       "2                   21.0  \n",
       "3                  120.0  \n",
       "4                  242.0  "
      ]
     },
     "execution_count": 30,
     "metadata": {},
     "output_type": "execute_result"
    }
   ],
   "source": [
    "layoff_staging.head()"
   ]
  },
  {
   "cell_type": "code",
   "execution_count": null,
   "id": "5462a67b-41af-490f-a641-ac3d9f55dc7b",
   "metadata": {},
   "outputs": [],
   "source": []
  },
  {
   "cell_type": "code",
   "execution_count": 31,
   "id": "7420c6dc-305e-46ed-9a19-97be61a60612",
   "metadata": {},
   "outputs": [
    {
     "name": "stdout",
     "output_type": "stream",
     "text": [
      "<class 'pandas.core.frame.DataFrame'>\n",
      "RangeIndex: 13975 entries, 0 to 13974\n",
      "Data columns (total 9 columns):\n",
      " #   Column                 Non-Null Count  Dtype  \n",
      "---  ------                 --------------  -----  \n",
      " 0   company                13975 non-null  object \n",
      " 1   location               13975 non-null  object \n",
      " 2   industry               13968 non-null  object \n",
      " 3   total_laid_off         11331 non-null  float64\n",
      " 4   percentage_laid_off    11018 non-null  object \n",
      " 5   date                   13968 non-null  object \n",
      " 6   stage                  13940 non-null  object \n",
      " 7   country                13975 non-null  object \n",
      " 8   funds_raised_millions  12820 non-null  float64\n",
      "dtypes: float64(2), object(7)\n",
      "memory usage: 982.7+ KB\n"
     ]
    }
   ],
   "source": [
    "layoff_staging.info()"
   ]
  },
  {
   "cell_type": "code",
   "execution_count": 32,
   "id": "9e3d24c8-8e77-4c00-a095-52bbdb823e53",
   "metadata": {},
   "outputs": [
    {
     "data": {
      "text/plain": [
       "company                   object\n",
       "location                  object\n",
       "industry                  object\n",
       "total_laid_off           float64\n",
       "percentage_laid_off       object\n",
       "date                      object\n",
       "stage                     object\n",
       "country                   object\n",
       "funds_raised_millions    float64\n",
       "dtype: object"
      ]
     },
     "execution_count": 32,
     "metadata": {},
     "output_type": "execute_result"
    }
   ],
   "source": [
    "layoff_staging.dtypes"
   ]
  },
  {
   "cell_type": "code",
   "execution_count": 33,
   "id": "dad9ccd7-0a10-41ff-8fce-67645d93363d",
   "metadata": {},
   "outputs": [
    {
     "data": {
      "text/html": [
       "<div>\n",
       "<style scoped>\n",
       "    .dataframe tbody tr th:only-of-type {\n",
       "        vertical-align: middle;\n",
       "    }\n",
       "\n",
       "    .dataframe tbody tr th {\n",
       "        vertical-align: top;\n",
       "    }\n",
       "\n",
       "    .dataframe thead th {\n",
       "        text-align: right;\n",
       "    }\n",
       "</style>\n",
       "<table border=\"1\" class=\"dataframe\">\n",
       "  <thead>\n",
       "    <tr style=\"text-align: right;\">\n",
       "      <th></th>\n",
       "      <th>total_laid_off</th>\n",
       "      <th>funds_raised_millions</th>\n",
       "    </tr>\n",
       "  </thead>\n",
       "  <tbody>\n",
       "    <tr>\n",
       "      <th>count</th>\n",
       "      <td>11331.000000</td>\n",
       "      <td>12820.000000</td>\n",
       "    </tr>\n",
       "    <tr>\n",
       "      <th>mean</th>\n",
       "      <td>238.093284</td>\n",
       "      <td>874.245944</td>\n",
       "    </tr>\n",
       "    <tr>\n",
       "      <th>std</th>\n",
       "      <td>769.803967</td>\n",
       "      <td>6020.249205</td>\n",
       "    </tr>\n",
       "    <tr>\n",
       "      <th>min</th>\n",
       "      <td>3.000000</td>\n",
       "      <td>0.000000</td>\n",
       "    </tr>\n",
       "    <tr>\n",
       "      <th>25%</th>\n",
       "      <td>36.000000</td>\n",
       "      <td>50.000000</td>\n",
       "    </tr>\n",
       "    <tr>\n",
       "      <th>50%</th>\n",
       "      <td>80.000000</td>\n",
       "      <td>162.000000</td>\n",
       "    </tr>\n",
       "    <tr>\n",
       "      <th>75%</th>\n",
       "      <td>180.000000</td>\n",
       "      <td>450.250000</td>\n",
       "    </tr>\n",
       "    <tr>\n",
       "      <th>max</th>\n",
       "      <td>12000.000000</td>\n",
       "      <td>121900.000000</td>\n",
       "    </tr>\n",
       "  </tbody>\n",
       "</table>\n",
       "</div>"
      ],
      "text/plain": [
       "       total_laid_off  funds_raised_millions\n",
       "count    11331.000000           12820.000000\n",
       "mean       238.093284             874.245944\n",
       "std        769.803967            6020.249205\n",
       "min          3.000000               0.000000\n",
       "25%         36.000000              50.000000\n",
       "50%         80.000000             162.000000\n",
       "75%        180.000000             450.250000\n",
       "max      12000.000000          121900.000000"
      ]
     },
     "execution_count": 33,
     "metadata": {},
     "output_type": "execute_result"
    }
   ],
   "source": [
    "layoff_staging.describe()"
   ]
  },
  {
   "cell_type": "markdown",
   "id": "a1dd60a2-aebb-443d-8820-6c01bdd93e31",
   "metadata": {},
   "source": [
    "#### CLEANING THE DATA"
   ]
  },
  {
   "cell_type": "code",
   "execution_count": 34,
   "id": "d99019c5-50e6-4bcd-a02f-954ded8d3f38",
   "metadata": {},
   "outputs": [],
   "source": [
    "#dealing with missing values"
   ]
  },
  {
   "cell_type": "code",
   "execution_count": 36,
   "id": "5770c08c-0fc5-4c70-9df2-aea6aad6e6ad",
   "metadata": {},
   "outputs": [
    {
     "data": {
      "text/plain": [
       "company                     0\n",
       "location                    0\n",
       "industry                    7\n",
       "total_laid_off           2644\n",
       "percentage_laid_off      2957\n",
       "date                        7\n",
       "stage                      35\n",
       "country                     0\n",
       "funds_raised_millions    1155\n",
       "dtype: int64"
      ]
     },
     "execution_count": 36,
     "metadata": {},
     "output_type": "execute_result"
    }
   ],
   "source": [
    "layoff_staging.isnull().sum()"
   ]
  },
  {
   "cell_type": "code",
   "execution_count": 45,
   "id": "062bc8fb-e9ec-495c-b246-6b4798b19509",
   "metadata": {},
   "outputs": [],
   "source": [
    "layoff_staging['total_laid_off'] = layoff_staging['total_laid_off'].fillna(layoff_staging['total_laid_off'].median()) # filling nan values with the median\n",
    "layoff_staging['percentage_laid_off'] = layoff_staging['percentage_laid_off'].fillna(layoff_staging['percentage_laid_off'].median()) # filling nan values with the median\n",
    "layoff_staging = layoff_staging[layoff_staging['industry'].notna()] # dropping missing values in industry column\n",
    "layoff_staging = layoff_staging[layoff_staging['date'].notnull()] # dropping missing values in date column\n",
    "layoff_staging[\"stage\"] = layoff_staging[\"stage\"].fillna(\"Unknown\") #replace nan values to unkown\n",
    "layoff_staging['funds_raised_millions'] = layoff_staging.groupby('stage')['funds_raised_millions'].transform(lambda x: x.fillna(x.median())) # filling nan values with the median"
   ]
  },
  {
   "cell_type": "code",
   "execution_count": 47,
   "id": "d2f51a41-4871-4ea8-a7a2-22171dbcf2a5",
   "metadata": {},
   "outputs": [
    {
     "data": {
      "image/png": "[encoded data removed]",
      "text/plain": [
       "<Figure size 640x480 with 1 Axes>"
      ]
     },
     "metadata": {},
     "output_type": "display_data"
    }
   ],
   "source": [
    "sns.scatterplot(data=layoff_staging, x=\"funds_raised_millions\", y=\"percentage_laid_off\", hue=\"stage\")\n",
    "plt.show()"
   ]
  },
  {
   "cell_type": "code",
   "execution_count": 39,
   "id": "3cd77f79-de89-4277-9fa7-64be7996b85e",
   "metadata": {},
   "outputs": [
    {
     "data": {
      "text/html": [
       "<div>\n",
       "<style scoped>\n",
       "    .dataframe tbody tr th:only-of-type {\n",
       "        vertical-align: middle;\n",
       "    }\n",
       "\n",
       "    .dataframe tbody tr th {\n",
       "        vertical-align: top;\n",
       "    }\n",
       "\n",
       "    .dataframe thead th {\n",
       "        text-align: right;\n",
       "    }\n",
       "</style>\n",
       "<table border=\"1\" class=\"dataframe\">\n",
       "  <thead>\n",
       "    <tr style=\"text-align: right;\">\n",
       "      <th></th>\n",
       "      <th>company</th>\n",
       "      <th>location</th>\n",
       "      <th>industry</th>\n",
       "      <th>total_laid_off</th>\n",
       "      <th>percentage_laid_off</th>\n",
       "      <th>date</th>\n",
       "      <th>stage</th>\n",
       "      <th>country</th>\n",
       "      <th>funds_raised_millions</th>\n",
       "    </tr>\n",
       "  </thead>\n",
       "  <tbody>\n",
       "    <tr>\n",
       "      <th>6</th>\n",
       "      <td>2TM</td>\n",
       "      <td>Sao Paulo</td>\n",
       "      <td>Crypto</td>\n",
       "      <td>90.0</td>\n",
       "      <td>0.12</td>\n",
       "      <td>2022-06-01</td>\n",
       "      <td>Unknown</td>\n",
       "      <td>Brazil</td>\n",
       "      <td>250.0</td>\n",
       "    </tr>\n",
       "    <tr>\n",
       "      <th>7</th>\n",
       "      <td>2TM</td>\n",
       "      <td>Sao Paulo</td>\n",
       "      <td>Crypto</td>\n",
       "      <td>100.0</td>\n",
       "      <td>0.15</td>\n",
       "      <td>2022-09-01</td>\n",
       "      <td>Unknown</td>\n",
       "      <td>Brazil</td>\n",
       "      <td>250.0</td>\n",
       "    </tr>\n",
       "    <tr>\n",
       "      <th>12</th>\n",
       "      <td>80 Acres Farms</td>\n",
       "      <td>Cincinnati</td>\n",
       "      <td>Food</td>\n",
       "      <td>80.0</td>\n",
       "      <td>0.1</td>\n",
       "      <td>2023-01-18</td>\n",
       "      <td>Unknown</td>\n",
       "      <td>United States</td>\n",
       "      <td>275.0</td>\n",
       "    </tr>\n",
       "    <tr>\n",
       "      <th>20</th>\n",
       "      <td>Acko</td>\n",
       "      <td>Mumbai</td>\n",
       "      <td>Finance</td>\n",
       "      <td>45.0</td>\n",
       "      <td>0.09</td>\n",
       "      <td>2020-04-01</td>\n",
       "      <td>Unknown</td>\n",
       "      <td>India</td>\n",
       "      <td>143.0</td>\n",
       "    </tr>\n",
       "    <tr>\n",
       "      <th>21</th>\n",
       "      <td>Acorns</td>\n",
       "      <td>Portland</td>\n",
       "      <td>Finance</td>\n",
       "      <td>50.0</td>\n",
       "      <td>None</td>\n",
       "      <td>2020-05-26</td>\n",
       "      <td>Unknown</td>\n",
       "      <td>United States</td>\n",
       "      <td>207.0</td>\n",
       "    </tr>\n",
       "    <tr>\n",
       "      <th>...</th>\n",
       "      <td>...</td>\n",
       "      <td>...</td>\n",
       "      <td>...</td>\n",
       "      <td>...</td>\n",
       "      <td>...</td>\n",
       "      <td>...</td>\n",
       "      <td>...</td>\n",
       "      <td>...</td>\n",
       "      <td>...</td>\n",
       "    </tr>\n",
       "    <tr>\n",
       "      <th>13935</th>\n",
       "      <td>Zume</td>\n",
       "      <td>SF Bay Area</td>\n",
       "      <td>Food</td>\n",
       "      <td>200.0</td>\n",
       "      <td>0.67</td>\n",
       "      <td>2020-04-15</td>\n",
       "      <td>Unknown</td>\n",
       "      <td>United States</td>\n",
       "      <td>423.0</td>\n",
       "    </tr>\n",
       "    <tr>\n",
       "      <th>13936</th>\n",
       "      <td>Zume</td>\n",
       "      <td>SF Bay Area</td>\n",
       "      <td>Food</td>\n",
       "      <td>200.0</td>\n",
       "      <td>0.67</td>\n",
       "      <td>2020-04-15</td>\n",
       "      <td>Unknown</td>\n",
       "      <td>United States</td>\n",
       "      <td>423.0</td>\n",
       "    </tr>\n",
       "    <tr>\n",
       "      <th>13937</th>\n",
       "      <td>Zume</td>\n",
       "      <td>SF Bay Area</td>\n",
       "      <td>Food</td>\n",
       "      <td>200.0</td>\n",
       "      <td>0.67</td>\n",
       "      <td>2020-04-15</td>\n",
       "      <td>Unknown</td>\n",
       "      <td>United States</td>\n",
       "      <td>423.0</td>\n",
       "    </tr>\n",
       "    <tr>\n",
       "      <th>13938</th>\n",
       "      <td>Zume</td>\n",
       "      <td>SF Bay Area</td>\n",
       "      <td>Food</td>\n",
       "      <td>200.0</td>\n",
       "      <td>0.67</td>\n",
       "      <td>2020-04-15</td>\n",
       "      <td>Unknown</td>\n",
       "      <td>United States</td>\n",
       "      <td>423.0</td>\n",
       "    </tr>\n",
       "    <tr>\n",
       "      <th>13939</th>\n",
       "      <td>Zume</td>\n",
       "      <td>SF Bay Area</td>\n",
       "      <td>Food</td>\n",
       "      <td>200.0</td>\n",
       "      <td>0.67</td>\n",
       "      <td>2020-04-15</td>\n",
       "      <td>Unknown</td>\n",
       "      <td>United States</td>\n",
       "      <td>423.0</td>\n",
       "    </tr>\n",
       "  </tbody>\n",
       "</table>\n",
       "<p>2210 rows × 9 columns</p>\n",
       "</div>"
      ],
      "text/plain": [
       "              company     location industry  total_laid_off  \\\n",
       "6                 2TM    Sao Paulo   Crypto            90.0   \n",
       "7                 2TM    Sao Paulo   Crypto           100.0   \n",
       "12     80 Acres Farms   Cincinnati     Food            80.0   \n",
       "20               Acko       Mumbai  Finance            45.0   \n",
       "21             Acorns     Portland  Finance            50.0   \n",
       "...               ...          ...      ...             ...   \n",
       "13935            Zume  SF Bay Area     Food           200.0   \n",
       "13936            Zume  SF Bay Area     Food           200.0   \n",
       "13937            Zume  SF Bay Area     Food           200.0   \n",
       "13938            Zume  SF Bay Area     Food           200.0   \n",
       "13939            Zume  SF Bay Area     Food           200.0   \n",
       "\n",
       "      percentage_laid_off        date    stage        country  \\\n",
       "6                    0.12  2022-06-01  Unknown         Brazil   \n",
       "7                    0.15  2022-09-01  Unknown         Brazil   \n",
       "12                    0.1  2023-01-18  Unknown  United States   \n",
       "20                   0.09  2020-04-01  Unknown          India   \n",
       "21                   None  2020-05-26  Unknown  United States   \n",
       "...                   ...         ...      ...            ...   \n",
       "13935                0.67  2020-04-15  Unknown  United States   \n",
       "13936                0.67  2020-04-15  Unknown  United States   \n",
       "13937                0.67  2020-04-15  Unknown  United States   \n",
       "13938                0.67  2020-04-15  Unknown  United States   \n",
       "13939                0.67  2020-04-15  Unknown  United States   \n",
       "\n",
       "       funds_raised_millions  \n",
       "6                      250.0  \n",
       "7                      250.0  \n",
       "12                     275.0  \n",
       "20                     143.0  \n",
       "21                     207.0  \n",
       "...                      ...  \n",
       "13935                  423.0  \n",
       "13936                  423.0  \n",
       "13937                  423.0  \n",
       "13938                  423.0  \n",
       "13939                  423.0  \n",
       "\n",
       "[2210 rows x 9 columns]"
      ]
     },
     "execution_count": 39,
     "metadata": {},
     "output_type": "execute_result"
    }
   ],
   "source": [
    "layoff_staging[layoff_staging[\"stage\"] == \"Unknown\"]"
   ]
  },
  {
   "cell_type": "code",
   "execution_count": 40,
   "id": "7130941f-8eeb-466a-b0b7-220d2ed0cf84",
   "metadata": {},
   "outputs": [],
   "source": [
    "layoff_staging['percentage_laid_off'] = layoff_staging['percentage_laid_off'].str.replace('%', '').astype(float) #convert it to float\n",
    "layoff_staging[\"date\"] = pd.to_datetime(layoff_staging[\"date\"], errors=\"coerce\") #convert it to datetime"
   ]
  },
  {
   "cell_type": "code",
   "execution_count": null,
   "id": "2074bb0e-b511-4ab9-8289-a55259fde49c",
   "metadata": {},
   "outputs": [],
   "source": []
  },
  {
   "cell_type": "code",
   "execution_count": 41,
   "id": "463bc476-9b06-46de-9b9b-797aa9fda4c8",
   "metadata": {},
   "outputs": [
    {
     "data": {
      "text/plain": [
       "stage\n",
       "Acquired            71.0\n",
       "Post-IPO           400.0\n",
       "Private Equity     220.0\n",
       "Seed                 3.0\n",
       "Series A            21.0\n",
       "Series B            60.0\n",
       "Series C           133.0\n",
       "Series D           256.0\n",
       "Series E           426.0\n",
       "Series F           496.0\n",
       "Series G          1100.0\n",
       "Series H          1900.0\n",
       "Series I          1600.0\n",
       "Series J          3800.0\n",
       "Subsidiary        2400.0\n",
       "Unknown            165.0\n",
       "Name: funds_raised_millions, dtype: float64"
      ]
     },
     "execution_count": 41,
     "metadata": {},
     "output_type": "execute_result"
    }
   ],
   "source": [
    "layoff_staging.groupby(\"stage\")[\"funds_raised_millions\"].median()"
   ]
  },
  {
   "cell_type": "code",
   "execution_count": null,
   "id": "a7e4c32e-5278-42ef-85d1-964e67eb28c6",
   "metadata": {},
   "outputs": [],
   "source": []
  },
  {
   "cell_type": "code",
   "execution_count": 42,
   "id": "c8303124-f52f-4e7b-b587-0d70453f5117",
   "metadata": {},
   "outputs": [
    {
     "data": {
      "text/plain": [
       "company                          object\n",
       "location                         object\n",
       "industry                         object\n",
       "total_laid_off                  float64\n",
       "percentage_laid_off             float64\n",
       "date                     datetime64[ns]\n",
       "stage                            object\n",
       "country                          object\n",
       "funds_raised_millions           float64\n",
       "dtype: object"
      ]
     },
     "execution_count": 42,
     "metadata": {},
     "output_type": "execute_result"
    }
   ],
   "source": [
    "layoff_staging.dtypes"
   ]
  },
  {
   "cell_type": "code",
   "execution_count": null,
   "id": "f7ba4b02-b8b4-44b1-8f5d-b616d57f789a",
   "metadata": {},
   "outputs": [],
   "source": []
  },
  {
   "cell_type": "code",
   "execution_count": 43,
   "id": "4d9497a1-74ba-4f07-86d1-dad3eccb72f0",
   "metadata": {},
   "outputs": [
    {
     "data": {
      "image/png": "[encoded data removed]",
      "text/plain": [
       "<Figure size 640x480 with 1 Axes>"
      ]
     },
     "metadata": {},
     "output_type": "display_data"
    },
    {
     "data": {
      "image/png": "[encoded data removed]",
      "text/plain": [
       "<Figure size 640x480 with 1 Axes>"
      ]
     },
     "metadata": {},
     "output_type": "display_data"
    },
    {
     "data": {
      "image/png": "[encoded data removed]",
      "text/plain": [
       "<Figure size 640x480 with 1 Axes>"
      ]
     },
     "metadata": {},
     "output_type": "display_data"
    }
   ],
   "source": [
    "numeric_cols = layoff_staging.select_dtypes(include='number').columns\n",
    "\n",
    "\n",
    "for col in numeric_cols:\n",
    "    sns.boxplot(data=layoff_staging, x=col)\n",
    "    plt.show()\n"
   ]
  },
  {
   "cell_type": "code",
   "execution_count": null,
   "id": "6210ed03-959a-444a-a5d3-0711fd47b768",
   "metadata": {},
   "outputs": [],
   "source": []
  },
  {
   "cell_type": "code",
   "execution_count": 46,
   "id": "0b0ee3f6-d444-4620-a232-9794849741ec",
   "metadata": {},
   "outputs": [
    {
     "data": {
      "image/png": "[encoded data removed]",
      "text/plain": [
       "<Figure size 1200x600 with 1 Axes>"
      ]
     },
     "metadata": {},
     "output_type": "display_data"
    }
   ],
   "source": [
    "layoff_staging.groupby('industry')['total_laid_off'].sum().sort_values(ascending=False).plot(kind='bar', figsize=(12, 6))\n",
    "plt.show()"
   ]
  },
  {
   "cell_type": "code",
   "execution_count": null,
   "id": "592c8cba-d1d4-4f2e-a34a-3ac8a509e53b",
   "metadata": {},
   "outputs": [],
   "source": []
  },
  {
   "cell_type": "code",
   "execution_count": null,
   "id": "8cdfd2ed-5cb1-4373-95ec-365ff9740cfd",
   "metadata": {},
   "outputs": [],
   "source": []
  },
  {
   "cell_type": "code",
   "execution_count": null,
   "id": "e46d1dc9-35bb-4f91-9f2c-1eb0d971acbd",
   "metadata": {},
   "outputs": [],
   "source": []
  }
 ],
 "metadata": {
  "kernelspec": {
   "display_name": "Python 3 (ipykernel)",
   "language": "python",
   "name": "python3"
  },
  "language_info": {
   "codemirror_mode": {
    "name": "ipython",
    "version": 3
   },
   "file_extension": ".py",
   "mimetype": "text/x-python",
   "name": "python",
   "nbconvert_exporter": "python",
   "pygments_lexer": "ipython3",
   "version": "3.13.5"
  }
 },
 "nbformat": 4,
 "nbformat_minor": 5
}
